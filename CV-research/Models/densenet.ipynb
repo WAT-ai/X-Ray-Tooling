{
 "cells": [
  {
   "cell_type": "code",
   "execution_count": null,
   "id": "2c7601b7-1985-4d99-80bd-ae4ca0a6e7c7",
   "metadata": {},
   "outputs": [],
   "source": [
    "# basic imports\n",
    "import torch\n",
    "import torch.nn as nn\n",
    "import torch.optim as optim\n",
    "from torchvision import datasets, models, transforms"
   ]
  },
  {
   "cell_type": "code",
   "execution_count": null,
   "id": "1544e79f",
   "metadata": {},
   "outputs": [],
   "source": [
    "# cuda availability\n",
    "device = torch.device(\"cuda\" if torch.cuda.is_available() else \"cpu\")"
   ]
  },
  {
   "cell_type": "code",
   "execution_count": null,
   "id": "147eec60",
   "metadata": {},
   "outputs": [],
   "source": [
    "# transform to imagenet format\n",
    "transform = transforms.Compose([\n",
    "    transforms.Resize(256),\n",
    "    transforms.CenterCrop(224),\n",
    "    transforms.ToTensor(),\n",
    "    transforms.Normalize(mean=[0.485, 0.456, 0.406], std=[0.229, 0.224, 0.225]),\n",
    "])"
   ]
  },
  {
   "cell_type": "code",
   "execution_count": null,
   "id": "e5e829a9",
   "metadata": {},
   "outputs": [],
   "source": [
    "# Load the dataset\n",
    "train_dataset = datasets.ImageFolder(\"/path/to/dataset/train\", transform=transform)\n",
    "val_dataset = datasets.ImageFolder(\"/path/to/dataset/val\", transform=transform)\n",
    "# Adjust labels to binary: fractured=1, not_fractured=0\n",
    "# DataLoader\n",
    "train_loader = torch.utils.data.DataLoader(train_dataset, batch_size=64, shuffle=False)\n",
    "val_loader = torch.utils.data.DataLoader(val_dataset, batch_size=64, shuffle=False)"
   ]
  },
  {
   "cell_type": "code",
   "execution_count": null,
   "id": "0758062c",
   "metadata": {},
   "outputs": [],
   "source": [
    "# Pretrained, densenet model for imagenet\n",
    "model = models.densenet121(pretrained=True)"
   ]
  },
  {
   "cell_type": "code",
   "execution_count": null,
   "id": "8e82300c",
   "metadata": {},
   "outputs": [],
   "source": [
    "# freezing all layers in the model\n",
    "for param in model.parameters():\n",
    "    param.requires_grad = False"
   ]
  },
  {
   "cell_type": "code",
   "execution_count": null,
   "id": "692293b9",
   "metadata": {},
   "outputs": [],
   "source": [
    "# Replacing number of classes to classify into, to our desired number\n",
    "num_classes = 2 # binary classification\n",
    "num_ftrs = model.fc.in_features\n",
    "model.fc = nn.Linear(num_ftrs, 2)  # binary classification, so 2 output neuron\n",
    "model = nn.Sequential(model, nn.Sigmoid())  #use Sigmoid as the final activation, commonly used for binary classification\n"
   ]
  },
  {
   "cell_type": "code",
   "execution_count": null,
   "id": "b73f726e",
   "metadata": {},
   "outputs": [],
   "source": [
    "# loss and optimizer\n",
    "criterion = nn.CrossEntropyLoss()\n",
    "optimizer = optim.SGD(model.fc.parameters(), lr=0.001, momentum=0.9)"
   ]
  },
  {
   "cell_type": "code",
   "execution_count": null,
   "id": "b3f2f64e",
   "metadata": {},
   "outputs": [],
   "source": [
    "# play around with this number\n",
    "num_epochs = 1\n",
    "\n",
    "for epoch in range(num_epochs):\n",
    "    model.train()\n",
    "    for inputs, labels in train_loader:\n",
    "        inputs, labels = inputs.to(device), labels.to(device)\n",
    "\n",
    "        optimizer.zero_grad()\n",
    "        outputs = model(inputs)\n",
    "        loss = criterion(outputs, labels)\n",
    "        loss.backward()\n",
    "        optimizer.step()\n",
    "\n",
    "    # Validation Accuracy\n",
    "    model.eval()\n",
    "    with torch.no_grad():\n",
    "        for inputs, labels in val_loader:\n",
    "            inputs, labels = inputs.to(device), labels.to(device)\n",
    "            outputs = torch.round(model(inputs))  # convert probabilities to binary predictions\n",
    "\n",
    "            # loop through each prediction and label to check accuracy\n",
    "            for output, label in zip(outputs, labels):\n",
    "                predicted_class = \"fractured\" if output.item() == 1 else \"not fractured\"\n",
    "                true_class = \"fractured\" if label.item() == 1 else \"not fractured\"\n",
    "\n",
    "                # print out classification for each image\n",
    "                if output == label:\n",
    "                    print(f\"Correctly classified: Predicted {predicted_class}, True label {true_class}\")\n",
    "                else:\n",
    "                    print(f\"Incorrectly classified: Predicted {predicted_class}, True label {true_class}\")"
   ]
  }
 ],
 "metadata": {
  "kernelspec": {
   "display_name": "Python 3 (ipykernel)",
   "language": "python",
   "name": "python3"
  },
  "language_info": {
   "codemirror_mode": {
    "name": "ipython",
    "version": 3
   },
   "file_extension": ".py",
   "mimetype": "text/x-python",
   "name": "python",
   "nbconvert_exporter": "python",
   "pygments_lexer": "ipython3",
   "version": "3.11.5"
  }
 },
 "nbformat": 4,
 "nbformat_minor": 5
}
